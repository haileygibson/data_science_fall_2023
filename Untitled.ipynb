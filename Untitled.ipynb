{
 "cells": [
  {
   "cell_type": "code",
   "execution_count": 2,
   "id": "71d503fc",
   "metadata": {},
   "outputs": [
    {
     "ename": "SyntaxError",
     "evalue": "invalid syntax (3637313341.py, line 2)",
     "output_type": "error",
     "traceback": [
      "\u001b[1;36m  Cell \u001b[1;32mIn[2], line 2\u001b[1;36m\u001b[0m\n\u001b[1;33m    *Basic Operations\u001b[0m\n\u001b[1;37m           ^\u001b[0m\n\u001b[1;31mSyntaxError\u001b[0m\u001b[1;31m:\u001b[0m invalid syntax\n"
     ]
    }
   ],
   "source": [
    "# Day5\n",
    "*Basic Operations\n",
    "    * Integers\n",
    "    * Strings\n",
    "    * List\n",
    "* Data types"
   ]
  },
  {
   "cell_type": "markdown",
   "id": "f1181475",
   "metadata": {},
   "source": [
    "|First_Name |Last_Name|\n",
    "|-----------|---------|\n",
    "|Mousa      |DOumbia  |\n",
    "|Hailey     |Gibson   |"
   ]
  },
  {
   "cell_type": "markdown",
   "id": "522d23aa",
   "metadata": {},
   "source": [
    "$S = \\sum_1^9(num^2)$"
   ]
  },
  {
   "cell_type": "markdown",
   "id": "efc06063",
   "metadata": {},
   "source": [
    "$S = /sum_1^9(num^2)$"
   ]
  },
  {
   "cell_type": "code",
   "execution_count": null,
   "id": "9b6d7ac5",
   "metadata": {},
   "outputs": [],
   "source": []
  }
 ],
 "metadata": {
  "kernelspec": {
   "display_name": "Python 3 (ipykernel)",
   "language": "python",
   "name": "python3"
  },
  "language_info": {
   "codemirror_mode": {
    "name": "ipython",
    "version": 3
   },
   "file_extension": ".py",
   "mimetype": "text/x-python",
   "name": "python",
   "nbconvert_exporter": "python",
   "pygments_lexer": "ipython3",
   "version": "3.11.4"
  }
 },
 "nbformat": 4,
 "nbformat_minor": 5
}
